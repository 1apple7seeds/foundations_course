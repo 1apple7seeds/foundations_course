{
 "cells": [
  {
   "cell_type": "code",
   "execution_count": 1,
   "metadata": {},
   "outputs": [],
   "source": [
    "import numpy as np"
   ]
  },
  {
   "cell_type": "markdown",
   "metadata": {},
   "source": [
    "### Exercise 1: Let's kill some zombies [0.25 points]\n",
    "\n",
    "Let's suppose that we're in a zombie apocalypse and we're getting ready to leave our settlement to look for food. Then, our sniper suggests that we should give him some time to kill a few zombies from our watch tower, so that it is safer to leave. There are 100 zombies outiside - 50 walkers, 35 runners, and 15 giants. Our sniper is a little overconfident, so he just said that he'll go up the watch tower and start shooting at whatever he sees. Unluckily, the only sniper we got is not a pro, so there is a chance that he'll miss. If the sniper shoots a walker, there is a 0.05 probability that he'll fail; similarly, there is a 0.15 probability that he'll fail if he shoots a runner and a 0.1 probability that he'll fail if he shoots a giant."
   ]
  },
  {
   "cell_type": "markdown",
   "metadata": {},
   "source": [
    "a) What prior probabilities do we know in this case?"
   ]
  },
  {
   "cell_type": "markdown",
   "metadata": {},
   "source": []
  },
  {
   "cell_type": "markdown",
   "metadata": {},
   "source": [
    "b) What is the probability that the sniper doesn't shoot a runner?"
   ]
  },
  {
   "cell_type": "markdown",
   "metadata": {},
   "source": []
  },
  {
   "cell_type": "markdown",
   "metadata": {},
   "source": [
    "c) What is the probability that the sniper shoots a giant and fails?"
   ]
  },
  {
   "cell_type": "markdown",
   "metadata": {},
   "source": []
  },
  {
   "cell_type": "markdown",
   "metadata": {},
   "source": [
    "d) If we notice that the sniper failed a shot, what is the probability that he was trying to shoot a walker?"
   ]
  },
  {
   "cell_type": "markdown",
   "metadata": {},
   "source": []
  },
  {
   "cell_type": "markdown",
   "metadata": {},
   "source": [
    "## Exercise 2: Time-travelling test subject [0.25 points]\n",
    "\n",
    "Let's say that we've developed a time-travelling watch, but it can only take you exactly 5 years into the future or 5 years back in time. Additionally, once you use it, it only allows you to go back to the present, or stay in whichever time you're now. Our secret organization is ready to run some tests on humans, so they are sending the first human subject. Now, while waiting for the test to start, one of your collegues starts talking to you. He's trying to guess what the human subject will do. He thinks that there is a 80% chance that the subject will travel to the future. And if the subject doesn't travel to the future, there is a 70% chance that he'll come back to the present. On the other hand, if the subject does travel to the future, there is a 60% chance that he'll come back to the present.\n",
    "\n",
    "a) Which interpretation of probability is being used here and why?"
   ]
  },
  {
   "cell_type": "markdown",
   "metadata": {},
   "source": []
  },
  {
   "cell_type": "markdown",
   "metadata": {},
   "source": [
    "b) What events are mentioned in the problem description and what are their probabilities? Which ones of these probabilities are priors and which ones are conditional probabilities?"
   ]
  },
  {
   "cell_type": "markdown",
   "metadata": {},
   "source": []
  },
  {
   "cell_type": "markdown",
   "metadata": {},
   "source": [
    "c) What is the probability that the subject never comes back?"
   ]
  },
  {
   "cell_type": "markdown",
   "metadata": {},
   "source": []
  },
  {
   "cell_type": "markdown",
   "metadata": {},
   "source": [
    "d) After the experiment, the subject didn't come back to the present. What is the probability that the subject travelled to the past?"
   ]
  },
  {
   "cell_type": "markdown",
   "metadata": {},
   "source": []
  },
  {
   "cell_type": "markdown",
   "metadata": {},
   "source": [
    "## Exercise 3: Joint Probability Distributions [0.25 points]\n",
    "\n",
    "In this exercise, you will write a set of functions for manipulating joint probability distributions of two discrete random variables. The given joint distribution is as follows:"
   ]
  },
  {
   "cell_type": "code",
   "execution_count": 2,
   "metadata": {},
   "outputs": [],
   "source": [
    "variable_names = ['X', 'Y']\n",
    "x_values = ['2', '3', '5']\n",
    "y_values = ['0.52','0.56', '0.6', '0.66']\n",
    "distribution = np.array([[6./35., 2./35., 1./35., 4./35.], [3./35., 3./35., 1./35., 2./35.],\\\n",
    "                         [1./35., 1./35., 5./35., 6./35.]])"
   ]
  },
  {
   "cell_type": "markdown",
   "metadata": {},
   "source": [
    "a) Find the probability mass functions of the random variables."
   ]
  },
  {
   "cell_type": "code",
   "execution_count": null,
   "metadata": {},
   "outputs": [],
   "source": []
  },
  {
   "cell_type": "markdown",
   "metadata": {},
   "source": [
    "b) Check if the variables are independent."
   ]
  },
  {
   "cell_type": "code",
   "execution_count": null,
   "metadata": {},
   "outputs": [],
   "source": []
  },
  {
   "cell_type": "markdown",
   "metadata": {},
   "source": [
    "c) Calculate the conditional PMF of the random variable X given an observed value of 0.6 for Y."
   ]
  },
  {
   "cell_type": "code",
   "execution_count": null,
   "metadata": {},
   "outputs": [],
   "source": []
  },
  {
   "cell_type": "markdown",
   "metadata": {},
   "source": [
    "d) Calculate the conditional expectation of the random variable Y given an observed value of 5 for X."
   ]
  },
  {
   "cell_type": "code",
   "execution_count": null,
   "metadata": {},
   "outputs": [],
   "source": []
  },
  {
   "cell_type": "markdown",
   "metadata": {},
   "source": [
    "e) Calculate the covariance of the random variables."
   ]
  },
  {
   "cell_type": "code",
   "execution_count": null,
   "metadata": {},
   "outputs": [],
   "source": []
  },
  {
   "cell_type": "markdown",
   "metadata": {},
   "source": [
    "### Exercise 4: Let's play LoL [0.25 points]\n",
    "\n",
    "What is LoL? -->> https://play.euw.leagueoflegends.com/en_GB\n",
    "\n",
    "The problem setup is as follows: Let's suppose that you have an AI program that can detect whether you're winning or losing in the game of LoL. If you're winning, the program will report that you're winning $90\\%$ of the cases; similarly, if you're losing, the program will report that you're winning in $5\\%$ of the cases.\n",
    "\n",
    "Now, this program wants to be useful to its owner and can communicate with them, namely it can advise you on what items to buy or give you tips on how to engage the enemy, events that we will denote by $C_A$ and $C_T$ respectively. For a particular owner (let's say you're the owner), the following transition probabilities are known:\n",
    "\n",
    "\\begin{align*}\n",
    "    &P(E_{W,t}|C_{A,t}, E_{W,t-1}) = 0.95 \\hspace{1.82cm} P(E_{L,t}|C_{A,t}, E_{W,t-1}) = 0.03 \\\\\n",
    "    &P(E_{W,t}|C_{A,t}, E_{L,t-1}) = 0.2 \\hspace{2.1cm} P(E_{L,t}|C_{A,t}, E_{L,t-1}) = 0.55 \\\\~\\\\\n",
    "    &P(E_{W,t}|C_{T,t}, E_{W,t-1}) = 0.92 \\hspace{1.78cm} P(E_{L,t}|C_{T,t}, E_{W,t-1}) = 0.05 \\\\\n",
    "    &P(E_{W,t}|C_{T,t}, E_{L,t-1}) = 0.35 \\hspace{1.75cm} P(E_{L,t}|C_{T,t}, E_{L,t-1}) = 0.45 \\\\\n",
    "\\end{align*}\n",
    "\n",
    "where $E$ denotes the actual state of the game, $W$ denotes winning, $L$ denotes losing and $t$ denotes time.\n",
    "\n",
    "a) Write down the equation for the Bayes filter that will allow us to estimate the state of your game at time $t+1$ based on the estimates up to time $t$, the measurements up to time $t+1$, and the AI program's communication actions up to time $t+1$. Then, use the Bayes filter to manually calculate the probabilities of the different emotions at time $t = 1$ given that the program has given advise on what items to buy and then seeing you winning. Assume that you're losing at time $t = 0$."
   ]
  },
  {
   "cell_type": "markdown",
   "metadata": {},
   "source": []
  },
  {
   "cell_type": "markdown",
   "metadata": {},
   "source": [
    "b) In the cell below, implement two functions - $measurement\\_update$ and $control\\_update$ - which can be used for recursively updating the belief about the state of your game based on all previous estimates, measurements, and program messages. Use your implementation to estimate the beliefs about the state of your game if we assume the following sequence of messages and state observations:\n",
    "\n",
    "*advise items*, winning, *tips on engaging*, winning, *tips on engaging*, losing, *advise items*, losing, *advise items*, losing, *tips on engaging*, winning, *tips on engaging*, winning\n",
    "\n",
    "Once again, assume that you're losing at time $t = 0$. Note that the first action-measurement pair is the same as in a), so you can use the estimate to cross-check your previous result."
   ]
  },
  {
   "cell_type": "code",
   "execution_count": 3,
   "metadata": {},
   "outputs": [],
   "source": [
    "def control_update():\n",
    "    return 0\n",
    "\n",
    "def measurement_update():\n",
    "    return 0\n",
    "\n",
    "P_e = np.array([0.,1.])\n",
    "\n",
    "P_z = np.array([[0.9,0.1],\n",
    "                [0.05,0.95]])\n",
    "\n",
    "P_u = np.array([[0.95,0.03],\n",
    "                [0.2,0.55],\n",
    "                [0.92,0.05],\n",
    "                [0.35,0.45]])\n",
    "\n",
    "# advise, tips = 0, 1\n",
    "# winning, losing = 0, 1\n",
    "actions = [0,1,1,0,0,1,1]\n",
    "measurements = [0,0,1,1,1,0,0]"
   ]
  },
  {
   "cell_type": "code",
   "execution_count": null,
   "metadata": {},
   "outputs": [],
   "source": []
  }
 ],
 "metadata": {
  "kernelspec": {
   "display_name": "Python 3",
   "language": "python",
   "name": "python3"
  },
  "language_info": {
   "codemirror_mode": {
    "name": "ipython",
    "version": 3
   },
   "file_extension": ".py",
   "mimetype": "text/x-python",
   "name": "python",
   "nbconvert_exporter": "python",
   "pygments_lexer": "ipython3",
   "version": "3.5.2"
  }
 },
 "nbformat": 4,
 "nbformat_minor": 2
}
